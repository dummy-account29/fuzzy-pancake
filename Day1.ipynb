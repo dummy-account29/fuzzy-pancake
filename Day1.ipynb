{
  "nbformat": 4,
  "nbformat_minor": 0,
  "metadata": {
    "colab": {
      "name": "Day1.ipynb",
      "provenance": []
    },
    "kernelspec": {
      "name": "python3",
      "display_name": "Python 3"
    },
    "language_info": {
      "name": "python"
    }
  },
  "cells": [
    {
      "cell_type": "code",
      "execution_count": 4,
      "metadata": {
        "colab": {
          "base_uri": "https://localhost:8080/"
        },
        "id": "OUBV-eSzy2_6",
        "outputId": "dd261162-897e-46ee-ecf3-82a9b106d53d"
      },
      "outputs": [
        {
          "output_type": "stream",
          "name": "stdout",
          "text": [
            "DAY 1 - SURE TRUST PYTHON AND ML BASIC COURSE\n"
          ]
        }
      ],
      "source": [
        "print('DAY 1 - SURE TRUST PYTHON AND ML BASIC COURSE')"
      ]
    },
    {
      "cell_type": "code",
      "source": [
        "print('1. Create Github Account')"
      ],
      "metadata": {
        "colab": {
          "base_uri": "https://localhost:8080/"
        },
        "id": "VZarvL-_0B4K",
        "outputId": "baf5c855-83e3-4542-cafc-8af62e5bdfad"
      },
      "execution_count": 5,
      "outputs": [
        {
          "output_type": "stream",
          "name": "stdout",
          "text": [
            "1. Create Github Account\n"
          ]
        }
      ]
    },
    {
      "cell_type": "code",
      "source": [
        "print('2. Practise using google colab')"
      ],
      "metadata": {
        "colab": {
          "base_uri": "https://localhost:8080/"
        },
        "id": "z4g8LltD0QR6",
        "outputId": "9a698e57-a468-4b05-a63d-45a598ce9b56"
      },
      "execution_count": 6,
      "outputs": [
        {
          "output_type": "stream",
          "name": "stdout",
          "text": [
            "2. Practise using google colab\n"
          ]
        }
      ]
    }
  ]
}